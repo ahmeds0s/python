{
 "cells": [
  {
   "cell_type": "markdown",
   "metadata": {},
   "source": [
    "# Python Syntax\n",
    "* first concept is indentation where to define a block of code \n",
    "a function or class you have to indent the code with 4 spaces or tab.\n",
    "* a comment is defined by <#> symbol.\n",
    "* there is no need to use parenthesis <()> to define a condition or evaluatable line of code line <x == 1>.\n",
    "* there is no main function but you can still create it.\n",
    "* every thing is an object with methods(functions) that could be used. \n"
   ]
  },
  {
   "cell_type": "code",
   "execution_count": 3,
   "metadata": {},
   "outputs": [
    {
     "name": "stdout",
     "output_type": "stream",
     "text": [
      "raspberry bi\n",
      "ay haga\n",
      "<function main at 0x000001F8972C11C0>\n",
      "<class 'function'>\n"
     ]
    }
   ],
   "source": [
    "# comment\n",
    "# indentation\n",
    "def main():\n",
    "    print(\"raspberry bi\")\n",
    "    def main2():\n",
    "        print(\"ay haga\")\n",
    "    main2()\n",
    "main() # function call\n",
    "print(main) # function reference\n",
    "print(type(main)) # the main is of type(class) function\n"
   ]
  },
  {
   "cell_type": "markdown",
   "metadata": {},
   "source": [
    "# Variables & Data Types\n",
    "* variables does not have a specific type.\n",
    "* you can just create a variable whenever you want."
   ]
  },
  {
   "cell_type": "code",
   "execution_count": 6,
   "metadata": {},
   "outputs": [
    {
     "name": "stdout",
     "output_type": "stream",
     "text": [
      "<class 'str'>\n",
      "<class 'int'>\n",
      "<class 'float'>\n",
      "<class 'str'>\n"
     ]
    }
   ],
   "source": [
    "x = \"string\" \n",
    "y = 100\n",
    "z = 10.111\n",
    "\n",
    "print(type(x)) \n",
    "print(type(y))\n",
    "print(type(z))\n",
    "y = \"something\" # it is possible to store another datatype directly \n",
    "print(type(y)) # now the type of the variable had dynamically changed"
   ]
  },
  {
   "cell_type": "markdown",
   "metadata": {},
   "source": [
    "# Operators\n",
    "* comparison ==, !=, is, >,<,<=, >= \n",
    "* logical and, or, not\n",
    "* arithmatic +,-,*,/,**,%,\\\n",
    "* bitwise |,&,<<,>>\n",
    "* assignment =\n"
   ]
  },
  {
   "cell_type": "code",
   "execution_count": 9,
   "metadata": {},
   "outputs": [
    {
     "name": "stdout",
     "output_type": "stream",
     "text": [
      "True\n",
      "False\n",
      "True\n",
      "False\n"
     ]
    }
   ],
   "source": [
    "# comparison  != < > <= >= \n",
    "# logical and(&&), or(||), not(!)\n",
    "# %\n",
    "var1 = 1001010 \n",
    "var2 = 2\n",
    "var3 = 1001010\n",
    "var4 = var1\n",
    "print(var1 == var3)\n",
    "print(var1 is var3) # <is> is the identity operator it evaluates to True when the variable is to variables are refrencing the samething\n",
    "print(var4 is var1)\n",
    "var1 = 2\n",
    "print(var4 is var1)"
   ]
  },
  {
   "cell_type": "markdown",
   "metadata": {},
   "source": [
    "# Decision making\n",
    "if <condition>:\n",
    "\n",
    "    //code\n",
    "elif <condition>:\n",
    "\n",
    "    //code\n",
    "else:\n",
    "\n",
    "    //code\n",
    "match <var>:\n",
    "    case <value>:\n",
    "        //code\n",
    "    case <value>:\n",
    "        //code\n",
    "    case other:\n",
    "        // default case"
   ]
  },
  {
   "cell_type": "code",
   "execution_count": 106,
   "metadata": {},
   "outputs": [
    {
     "name": "stdout",
     "output_type": "stream",
     "text": [
      "None\n",
      "None\n"
     ]
    }
   ],
   "source": [
    "x = 3\n",
    "if x == 1:\n",
    "    print(\"x equals 1\") \n",
    "elif x == 2:\n",
    "    print(\"x equals 2\")\n",
    "else:\n",
    "    print(None)\n",
    "match x:\n",
    "    case 1:\n",
    "        print(\"X equals 1\")\n",
    "    case 2:\n",
    "        print(\"x equals 2\")\n",
    "    case other:\n",
    "        print(None)"
   ]
  },
  {
   "cell_type": "markdown",
   "metadata": {},
   "source": [
    "# Loops\n",
    "for <variable> in range(start,end,step):\n",
    "    //code\n"
   ]
  },
  {
   "cell_type": "code",
   "execution_count": 115,
   "metadata": {},
   "outputs": [
    {
     "name": "stdout",
     "output_type": "stream",
     "text": [
      "0\n",
      "2\n",
      "4\n",
      "6\n",
      "8\n",
      "[0, 2, 4, 6, 8]\n"
     ]
    }
   ],
   "source": [
    "for i in range(10,3,-2):\n",
    "    if i == 5:\n",
    "        continue\n",
    "    print(i)\n",
    "# while True:\n",
    "#     print(i)\n",
    "    \n",
    "print(list(range(0,10,2)))"
   ]
  },
  {
   "cell_type": "markdown",
   "metadata": {},
   "source": [
    "* Functions"
   ]
  },
  {
   "cell_type": "code",
   "execution_count": 15,
   "metadata": {},
   "outputs": [
    {
     "name": "stdout",
     "output_type": "stream",
     "text": [
      "\u001b[1;31mSignature:\u001b[0m \u001b[0mfact\u001b[0m\u001b[1;33m(\u001b[0m\u001b[0mx\u001b[0m\u001b[1;33m)\u001b[0m\u001b[1;33m\u001b[0m\u001b[1;33m\u001b[0m\u001b[0m\n",
      "\u001b[1;31mDocstring:\u001b[0m\n",
      "this function prints the factorial of a number x\n",
      "    \n",
      "\u001b[1;31mFile:\u001b[0m      c:\\users\\ahhes\\appdata\\local\\temp\\ipykernel_17856\\2998596620.py\n",
      "\u001b[1;31mType:\u001b[0m      function"
     ]
    }
   ],
   "source": [
    "def fact(x):\n",
    "    \"\"\"\n",
    "        this function prints the factorial of a number x\n",
    "    \"\"\"\n",
    "    if x == 1 or x == 0:\n",
    "        return 1\n",
    "    else:\n",
    "        return x * fact(x - 1)"
   ]
  },
  {
   "cell_type": "markdown",
   "metadata": {},
   "source": [
    "# Libraries\n",
    "import <library/module name>"
   ]
  },
  {
   "cell_type": "code",
   "execution_count": 126,
   "metadata": {},
   "outputs": [
    {
     "data": {
      "text/plain": [
       "1.4142135623730951"
      ]
     },
     "execution_count": 126,
     "metadata": {},
     "output_type": "execute_result"
    }
   ],
   "source": [
    "import math\n",
    "math.sqrt(2)\n"
   ]
  },
  {
   "cell_type": "markdown",
   "metadata": {},
   "source": [
    "* Files"
   ]
  },
  {
   "cell_type": "code",
   "execution_count": 67,
   "metadata": {},
   "outputs": [],
   "source": [
    "f = \"file\"\n",
    "with open(f\"./{f}.txt\",\"w\") as file:\n",
    "    file.writelines([\"ahmed\", \"mohamed\", \"hesham\", \"hadhuda\"])\n"
   ]
  },
  {
   "cell_type": "markdown",
   "metadata": {},
   "source": [
    "* strings"
   ]
  },
  {
   "cell_type": "code",
   "execution_count": 18,
   "metadata": {},
   "outputs": [
    {
     "name": "stdout",
     "output_type": "stream",
     "text": [
      "[(0, 'a'), (1, 'i'), (2, 'n'), (3, ' '), (4, 's'), (5, 'h'), (6, 'a'), (7, 'm'), (8, 's'), (9, ' '), (10, 'u'), (11, 'n'), (12, 'i'), (13, 'v'), (14, 'e'), (15, 'r'), (16, 's'), (17, 'i'), (18, 't'), (19, 'y')]\n"
     ]
    },
    {
     "data": {
      "text/plain": [
       "8"
      ]
     },
     "execution_count": 18,
     "metadata": {},
     "output_type": "execute_result"
    }
   ],
   "source": [
    "s = \"ain shams university\"\n",
    "s[3:]\n",
    "print(list(enumerate(s)))\n",
    "s.index(\"s\",5)"
   ]
  },
  {
   "cell_type": "markdown",
   "metadata": {},
   "source": [
    "* lists"
   ]
  },
  {
   "cell_type": "code",
   "execution_count": 10,
   "metadata": {},
   "outputs": [
    {
     "name": "stdout",
     "output_type": "stream",
     "text": [
      "0 1\n",
      "huda\n",
      "1 huda\n",
      "3\n",
      "2 3\n",
      "5\n",
      "3 5\n",
      "0.5\n",
      "4 0.5\n"
     ]
    }
   ],
   "source": [
    "l = [1, \"huda\",3, 5,0.5]\n",
    "for index, item in enumerate(l):\n",
    "    print(index, item)\n",
    "    if index  == len(l) - 1:\n",
    "        break\n",
    "    print(l[index + 1])"
   ]
  },
  {
   "cell_type": "markdown",
   "metadata": {},
   "source": [
    "* sets"
   ]
  },
  {
   "cell_type": "code",
   "execution_count": 21,
   "metadata": {},
   "outputs": [
    {
     "name": "stdout",
     "output_type": "stream",
     "text": [
      "{1, 2, 3}\n",
      "{'a', 'd', 'u', 'h'}\n"
     ]
    }
   ],
   "source": [
    "s = {1,2,3,1}\n",
    "print(s)\n",
    "name = \"hudaa\"\n",
    "lst = [1, 2, 3, 4, 1, 2]\n",
    "print(set(name))"
   ]
  },
  {
   "cell_type": "markdown",
   "metadata": {},
   "source": [
    "* dictionaries"
   ]
  },
  {
   "cell_type": "code",
   "execution_count": 52,
   "metadata": {},
   "outputs": [
    {
     "name": "stdout",
     "output_type": "stream",
     "text": [
      "100\n",
      "200\n"
     ]
    },
    {
     "data": {
      "text/plain": [
       "'Mohamed'"
      ]
     },
     "execution_count": 52,
     "metadata": {},
     "output_type": "execute_result"
    }
   ],
   "source": [
    "d = {\n",
    "   \"key1\": 2,\n",
    "   \"key2\": 3,\n",
    "   \"key4\": 100 \n",
    "}\n",
    "print(d[\"key4\"])\n",
    "d[\"key5\"] = 200\n",
    "print(d[\"key5\"])\n",
    "x = \"mohamed\"\n",
    "x.capitalize()\n"
   ]
  },
  {
   "cell_type": "markdown",
   "metadata": {},
   "source": []
  },
  {
   "cell_type": "code",
   "execution_count": null,
   "metadata": {},
   "outputs": [],
   "source": [
    "%pip install pyqt5 pyqt5-tools"
   ]
  },
  {
   "cell_type": "markdown",
   "metadata": {},
   "source": [
    "* Tuple"
   ]
  },
  {
   "cell_type": "code",
   "execution_count": 32,
   "metadata": {},
   "outputs": [
    {
     "name": "stdout",
     "output_type": "stream",
     "text": [
      "2\n"
     ]
    }
   ],
   "source": [
    "t1, t2, t3 = [1, 3, 2]\n",
    "print(t3)\n"
   ]
  },
  {
   "cell_type": "markdown",
   "metadata": {},
   "source": [
    "* examples"
   ]
  },
  {
   "cell_type": "code",
   "execution_count": 50,
   "metadata": {},
   "outputs": [
    {
     "name": "stdout",
     "output_type": "stream",
     "text": [
      "[66, 5, 81, 63, 35, 23, 37, 65, 48, 20, 73, 90, 54, 89, 10, 72, 96, 25, 47, 61, 82, 93, 21, 2, 84, 98, 42, 51, 1, 9, 83, 14, 62, 36, 29, 13, 85, 99, 57, 97, 4, 87, 56, 40, 45, 67, 30, 52, 22, 19, 12, 11, 76, 64, 49, 39, 92, 28, 32, 43, 17, 55, 18, 80, 75, 91, 71, 16, 26, 38, 46, 41, 59, 24, 86, 58, 34, 74, 68, 33, 70, 53, 6, 79, 94, 3, 88, 50, 15, 27, 60, 78, 77, 95, 0, 7, 44, 31, 8, 69]\n",
      "[0, 1, 2, 3, 4, 5, 6, 7, 8, 9, 10, 11, 12, 13, 14, 15, 16, 17, 18, 19, 20, 21, 22, 23, 24, 25, 26, 27, 28, 29, 30, 31, 32, 33, 34, 35, 36, 37, 38, 39, 40, 41, 42, 43, 44, 45, 46, 47, 48, 49, 50, 51, 52, 53, 54, 55, 56, 57, 58, 59, 60, 61, 62, 63, 64, 65, 66, 67, 68, 69, 70, 71, 72, 73, 74, 75, 76, 77, 78, 79, 80, 81, 82, 83, 84, 85, 86, 87, 88, 89, 90, 91, 92, 93, 94, 95, 96, 97, 98, 99]\n",
      "['zooooooo', 'hudaaa', 'ahmed', 'ziad']\n"
     ]
    }
   ],
   "source": [
    "import random as r\n",
    "\n",
    "l = list(range(0,100))\n",
    "r.shuffle(l)\n",
    "print(l)\n",
    "l.sort()\n",
    "print(l)\n",
    "\n",
    "ls = [\"ahmed\",\"ziad\",\"hudaaa\",\"zooooooo\"]\n",
    "\n",
    "\n",
    "\n",
    "ls.sort(key=len, reverse=True)\n",
    "print(ls)"
   ]
  },
  {
   "cell_type": "markdown",
   "metadata": {},
   "source": []
  }
 ],
 "metadata": {
  "kernelspec": {
   "display_name": "Python 3",
   "language": "python",
   "name": "python3"
  },
  "language_info": {
   "codemirror_mode": {
    "name": "ipython",
    "version": 3
   },
   "file_extension": ".py",
   "mimetype": "text/x-python",
   "name": "python",
   "nbconvert_exporter": "python",
   "pygments_lexer": "ipython3",
   "version": "3.11.5"
  }
 },
 "nbformat": 4,
 "nbformat_minor": 2
}
